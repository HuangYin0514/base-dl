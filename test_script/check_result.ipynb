{
 "cells": [
  {
   "cell_type": "code",
   "execution_count": null,
   "source": [
    "import cv2\n",
    "%matplotlib inline\n",
    "from  matplotlib import pyplot as plt\n",
    "\n",
    "plt.figure(figsize=(20,20))\n",
    "IMG_PATH=\"checkpoints/hymenoptera/train_log.jpg\"\n",
    "im = cv2.imread(IMG_PATH)\n",
    "plt.imshow(im)\n",
    "plt.show()"
   ],
   "outputs": [],
   "metadata": {}
  }
 ],
 "metadata": {
  "orig_nbformat": 4,
  "language_info": {
   "name": "python"
  }
 },
 "nbformat": 4,
 "nbformat_minor": 2
}