{
 "cells": [
  {
   "cell_type": "code",
   "execution_count": 7,
   "source": [
    "import os\n",
    "#using numpy\n",
    "import numpy as np\n",
    "#visualize some datasets\n",
    "import matplotlib.pyplot as plt"
   ],
   "outputs": [],
   "metadata": {}
  },
  {
   "cell_type": "code",
   "execution_count": 8,
   "source": [
    "os.listdir('../datasets/Market-1501-v15.09.15/')"
   ],
   "outputs": [
    {
     "output_type": "execute_result",
     "data": {
      "text/plain": [
       "['bounding_box_test',\n",
       " 'gt_query',\n",
       " 'gt_bbox',\n",
       " 'bounding_box_train',\n",
       " 'readme.txt',\n",
       " 'query']"
      ]
     },
     "metadata": {},
     "execution_count": 8
    }
   ],
   "metadata": {}
  },
  {
   "cell_type": "code",
   "execution_count": 9,
   "source": [
    "import glob\n",
    "\n",
    "train_dir = '../datasets/Market-1501-v15.09.15/bounding_box_train'\n",
    "test_dir = '../datasets/Market-1501-v15.09.15/bounding_box_test'\n",
    "query_dir = '../datasets/Market-1501-v15.09.15/query'\n",
    "\n",
    "train_list = glob.glob(os.path.join(train_dir,'*.jpg'))\n",
    "test_list = glob.glob(os.path.join(test_dir, '*.jpg'))\n",
    "query_list = glob.glob(os.path.join(query_dir, '*.jpg'))\n",
    "\n",
    "len(train_list),len(test_list),len(query_list)"
   ],
   "outputs": [
    {
     "output_type": "execute_result",
     "data": {
      "text/plain": [
       "(12936, 19732, 3368)"
      ]
     },
     "metadata": {},
     "execution_count": 9
    }
   ],
   "metadata": {}
  },
  {
   "cell_type": "code",
   "execution_count": 10,
   "source": [
    "os.mkdir(\"../datasets/Market-1501-v15.09.15_reduce\")\n",
    "os.mkdir(\"../datasets/Market-1501-v15.09.15_reduce/bounding_box_train\")\n",
    "os.mkdir(\"../datasets/Market-1501-v15.09.15_reduce/bounding_box_test\")\n",
    "os.mkdir(\"../datasets/Market-1501-v15.09.15_reduce/query\")\n"
   ],
   "outputs": [
    {
     "output_type": "error",
     "ename": "FileExistsError",
     "evalue": "[Errno 17] File exists: '../datasets/Market-1501-v15.09.15_reduce'",
     "traceback": [
      "\u001b[0;31m---------------------------------------------------------------------------\u001b[0m",
      "\u001b[0;31mFileExistsError\u001b[0m                           Traceback (most recent call last)",
      "\u001b[0;32m/var/folders/xf/ps21v5r90452yydpqn3d77jc0000gn/T/ipykernel_2682/548271474.py\u001b[0m in \u001b[0;36m<module>\u001b[0;34m\u001b[0m\n\u001b[0;32m----> 1\u001b[0;31m \u001b[0mos\u001b[0m\u001b[0;34m.\u001b[0m\u001b[0mmkdir\u001b[0m\u001b[0;34m(\u001b[0m\u001b[0;34m\"../datasets/Market-1501-v15.09.15_reduce\"\u001b[0m\u001b[0;34m)\u001b[0m\u001b[0;34m\u001b[0m\u001b[0;34m\u001b[0m\u001b[0m\n\u001b[0m\u001b[1;32m      2\u001b[0m \u001b[0mos\u001b[0m\u001b[0;34m.\u001b[0m\u001b[0mmkdir\u001b[0m\u001b[0;34m(\u001b[0m\u001b[0;34m\"../datasets/Market-1501-v15.09.15_reduce/bounding_box_train\"\u001b[0m\u001b[0;34m)\u001b[0m\u001b[0;34m\u001b[0m\u001b[0;34m\u001b[0m\u001b[0m\n\u001b[1;32m      3\u001b[0m \u001b[0mos\u001b[0m\u001b[0;34m.\u001b[0m\u001b[0mmkdir\u001b[0m\u001b[0;34m(\u001b[0m\u001b[0;34m\"../datasets/Market-1501-v15.09.15_reduce/bounding_box_test\"\u001b[0m\u001b[0;34m)\u001b[0m\u001b[0;34m\u001b[0m\u001b[0;34m\u001b[0m\u001b[0m\n\u001b[1;32m      4\u001b[0m \u001b[0mos\u001b[0m\u001b[0;34m.\u001b[0m\u001b[0mmkdir\u001b[0m\u001b[0;34m(\u001b[0m\u001b[0;34m\"../datasets/Market-1501-v15.09.15_reduce/query\"\u001b[0m\u001b[0;34m)\u001b[0m\u001b[0;34m\u001b[0m\u001b[0;34m\u001b[0m\u001b[0m\n",
      "\u001b[0;31mFileExistsError\u001b[0m: [Errno 17] File exists: '../datasets/Market-1501-v15.09.15_reduce'"
     ]
    }
   ],
   "metadata": {}
  },
  {
   "cell_type": "code",
   "execution_count": null,
   "source": [
    "!rm -rf ../datasets/Market-1501-v15.09.15_reduce"
   ],
   "outputs": [],
   "metadata": {}
  },
  {
   "cell_type": "code",
   "execution_count": null,
   "source": [
    "from PIL import Image\n",
    "import shutil\n",
    "\n",
    "\n",
    "random_idx = np.random.randint(1,len(train_list),size=20)\n",
    "dest_file_path = \"../datasets/Market-1501-v15.09.15_reduce/bounding_box_train/\"\n",
    "for idx in random_idx:\n",
    "    file_name = train_list[idx].split(\"/\")[-1]\n",
    "    shutil.copyfile(train_list[idx],dest_file_path+file_name)\n",
    "\n",
    "\n",
    "random_idx = np.random.randint(1,len(test_list),size=100)\n",
    "dest_file_path = \"../datasets/Market-1501-v15.09.15_reduce/bounding_box_test/\"\n",
    "for idx in random_idx:\n",
    "    file_name = test_list[idx].split(\"/\")[-1]\n",
    "    shutil.copyfile(test_list[idx],dest_file_path+file_name)\n",
    "\n",
    "\n",
    "random_idx = np.random.randint(1,len(query_list),size=100)\n",
    "dest_file_path = \"../datasets/Market-1501-v15.09.15_reduce/query/\"\n",
    "for idx in random_idx:\n",
    "    file_name = query_list[idx].split(\"/\")[-1]\n",
    "    shutil.copyfile(query_list[idx],dest_file_path+file_name)"
   ],
   "outputs": [],
   "metadata": {}
  },
  {
   "cell_type": "code",
   "execution_count": null,
   "source": [
    "train_dir = '../datasets/Market-1501-v15.09.15_reduce/bounding_box_train'\n",
    "test_dir = '../datasets/Market-1501-v15.09.15_reduce/bounding_box_test'\n",
    "query_dir = '../datasets/Market-1501-v15.09.15_reduce/query'\n",
    "\n",
    "train_list = glob.glob(os.path.join(train_dir,'*.jpg'))\n",
    "test_list = glob.glob(os.path.join(test_dir, '*.jpg'))\n",
    "query_list = glob.glob(os.path.join(query_dir, '*.jpg'))\n",
    "\n",
    "len(train_list),len(test_list),len(query_list)"
   ],
   "outputs": [
    {
     "output_type": "execute_result",
     "data": {
      "text/plain": [
       "(20, 20, 100)"
      ]
     },
     "metadata": {},
     "execution_count": 6
    }
   ],
   "metadata": {}
  }
 ],
 "metadata": {
  "orig_nbformat": 4,
  "language_info": {
   "name": "python",
   "version": "3.9.6",
   "mimetype": "text/x-python",
   "codemirror_mode": {
    "name": "ipython",
    "version": 3
   },
   "pygments_lexer": "ipython3",
   "nbconvert_exporter": "python",
   "file_extension": ".py"
  },
  "kernelspec": {
   "name": "python3",
   "display_name": "Python 3.9.6 64-bit ('py396': conda)"
  },
  "interpreter": {
   "hash": "810c2306e51442dc5b04877c086a7ceb5216301a6472989ae31f791644de0868"
  }
 },
 "nbformat": 4,
 "nbformat_minor": 2
}